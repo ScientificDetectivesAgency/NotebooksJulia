{
 "cells": [
  {
   "cell_type": "markdown",
   "metadata": {},
   "source": [
    "# Gradient descent\n",
    "\n",
    "\n",
    "Suposse that we have $N$ observation of a vector $\\mathbf{x}_i\\in\\mathbb{R}^D$ and a output varibale $t_i\\in\\mathbb{R}$. We want a model of the form $t_i=w_0+\\sum_{j=1}^D w_j x_{ij}$. It is possible to construct a  cost function $E(\\mathbf{w})$ define as:\n",
    "\n",
    "$$\n",
    "\\begin{equation}\n",
    "E(\\mathbf{w})=\\frac{1}{2N}\\sum_{i=1}^N\\left(t_n - (w_0 + \\sum_{j=1}^D w_j (x_{i})_j \\right)^2\n",
    "\\end{equation}\n",
    "$$\n",
    "That we could write as:\n",
    "$$\n",
    "\\begin{equation}\n",
    "E(\\mathbf{w})=\\frac{1}{2N}\\sum_{i=1}^N\\left(t_n - (w_0 + \\mathbf{w}^T\\mathbf{x}_n) \\right)^2\n",
    "\\end{equation}\n",
    "$$\n",
    "\n",
    "Or in matrix form:\n",
    "$$\n",
    "\\begin{equation}\n",
    "E(\\mathbf{w})=\\frac{1}{2N}\\left(\\mathbf{t} - \\mathbb{X}\\tilde{\\mathbf{w}} \\right)^T\\left(\\mathbf{t} - \\mathbb{X}\\tilde{\\mathbf{w}} \\right),\n",
    "\\end{equation}  \n",
    "$$\n",
    "where\n",
    "$$\n",
    "\\tilde{\\mathbf{w}}=\\begin{bmatrix}w_0 \\\\ \\mathbf{w} \\end{bmatrix},\\;\\;\\;\\;\\mathbb{X}=\\begin{bmatrix}\n",
    "1&&\\mathbf{x_1} \\\\\n",
    "1&&\\mathbf{x_2} \\\\\n",
    "\\vdots && \\vdots \\\\\n",
    "1&&\\mathbf{x_N}\n",
    "\\end{bmatrix},\\;\\;\\;\\mathbf{t}=\\begin{bmatrix}t_1\\\\t_2\\\\ \\vdots \\\\ t_N\\end{bmatrix}.\n",
    "$$\n",
    "\n",
    "The optimal solution in Less squares form is given by:\n",
    "$$\n",
    "\\begin{equation}\n",
    "\\tilde{\\mathbf{w}}^* = \\left( \\mathbb{X}^T\\mathbb{X} \\right)^{-1}\\mathbb{X}^T\\mathbf{y}\n",
    "\\end{equation}\n",
    "$$"
   ]
  },
  {
   "cell_type": "code",
   "execution_count": null,
   "metadata": {},
   "outputs": [
    {
     "name": "stdout",
     "output_type": "stream",
     "text": [
      "\u001b[32m\u001b[1m  Updating\u001b[22m\u001b[39m registry at `~/.julia/registries/General`\n",
      "\u001b[32m\u001b[1m  Updating\u001b[22m\u001b[39m git-repo `https://github.com/JuliaRegistries/General.git`\n",
      "\u001b[?25l\u001b[2K\u001b[?25h\u001b[32m\u001b[1m Resolving\u001b[22m\u001b[39m package versions...\n",
      "\u001b[32m\u001b[1m Installed\u001b[22m\u001b[39m PyPlot ───── v2.8.2\n",
      "\u001b[32m\u001b[1m Installed\u001b[22m\u001b[39m PyCall ───── v1.91.2\n",
      "\u001b[32m\u001b[1m Installed\u001b[22m\u001b[39m MacroTools ─ v0.5.2\n",
      "\u001b[32m\u001b[1m  Updating\u001b[22m\u001b[39m `~/.julia/environments/v1.0/Project.toml`\n",
      " \u001b[90m [d330b81b]\u001b[39m\u001b[92m + PyPlot v2.8.2\u001b[39m\n",
      "\u001b[32m\u001b[1m  Updating\u001b[22m\u001b[39m `~/.julia/environments/v1.0/Manifest.toml`\n",
      " \u001b[90m [1914dd2f]\u001b[39m\u001b[92m + MacroTools v0.5.2\u001b[39m\n",
      " \u001b[90m [438e738f]\u001b[39m\u001b[92m + PyCall v1.91.2\u001b[39m\n",
      " \u001b[90m [d330b81b]\u001b[39m\u001b[92m + PyPlot v2.8.2\u001b[39m\n",
      "\u001b[32m\u001b[1m  Building\u001b[22m\u001b[39m PyCall → `~/.julia/packages/PyCall/ttONZ/deps/build.log`\n"
     ]
    }
   ],
   "source": [
    "import Pkg; Pkg.add(\"LinearAlgebra\")\n",
    "import Pkg; Pkg.add(\"Plots\")\n",
    "import Pkg; Pkg.add(\"LaTeXStrings\")\n",
    "import Pkg; Pkg.add(\"ColorSchemes\")\n",
    "using LinearAlgebra\n",
    "using Plots\n",
    "using LaTeXStrings\n",
    "using ColorSchemes\n",
    "pyplot()"
   ]
  },
  {
   "cell_type": "code",
   "execution_count": null,
   "metadata": {
    "scrolled": true
   },
   "outputs": [],
   "source": [
    "# The data to fit\n",
    "N = 30\n",
    "𝚠 = [0.5, 1.0] # True weights\n",
    "x = collect(range(-1.0 ,stop = 1.0, length=N))\n",
    "t = [ones(N,1) x] * 𝚠\n",
    "\n",
    "𝚇 = [ones(N,1) x]\n",
    "\n",
    "# Less squares solution\n",
    "wo = inv(𝚇'*𝚇)*(𝚇'*t)"
   ]
  },
  {
   "cell_type": "code",
   "execution_count": 2,
   "metadata": {},
   "outputs": [
    {
     "ename": "UndefVarError",
     "evalue": "UndefVarError: scatter not defined",
     "output_type": "error",
     "traceback": [
      "UndefVarError: scatter not defined",
      "",
      "Stacktrace:",
      " [1] top-level scope at In[2]:1"
     ]
    }
   ],
   "source": [
    "scatter(x, t, label=\"Data\")\n",
    "xaxis!(L\"x\")\n",
    "yaxis!(L\"y\")\n",
    "\n",
    "# Plot less squares solution\n",
    "tls = [ones(N,1) x] * wo\n",
    "plot!(x, tls, label =L\"$y=w_0+\\mathbf{w}^T\\mathbf{x}$\" )"
   ]
  },
  {
   "cell_type": "markdown",
   "metadata": {},
   "source": [
    "Insted of use the Less Squares solution, we are going to use a iterative method, the Gradient Step Descent (SG), the update rule is:\n",
    "\n",
    "$$\n",
    "\\begin{equation}\n",
    "\\mathbf{w}^{i+1}=\\mathbf{w}^{i}-\\alpha\\nabla E(\\mathbf{w}^{i})    \n",
    "\\end{equation}    \n",
    "$$, where\n",
    "$i$ indicates the iteration and $\\alpha$ is calling the **learning rate**.\n",
    "\n",
    "In our case $\\nabla E(\\mathbf{w})$ is given by:\n",
    "\n",
    "$$\n",
    "\\begin{eqnarray}\n",
    "\\nabla E(\\mathbf{w})&=&\\frac{1}{N}\\left[-\\mathbb{X}^T\\mathbf{t} + (\\mathbb{X}^T \\mathbb{X}\\mathbf{w}) \\right] \\\\\n",
    "&=&\\frac{1}{N}\\mathbb{X}^T\\left[ \\mathbb{X}\\mathbf{w} - \\mathbf{t}\\right]\n",
    "\\end{eqnarray}.\n",
    "$$\n",
    "\n",
    "Due is a iterative method, we need a stop criteria; the most common criteria ins this algorithms are a maximum number of iterations, or $||\\nabla E(\\mathbf{w} ||\\leq \\epsilon$."
   ]
  },
  {
   "cell_type": "code",
   "execution_count": 3,
   "metadata": {},
   "outputs": [
    {
     "ename": "UndefVarError",
     "evalue": "UndefVarError: x not defined",
     "output_type": "error",
     "traceback": [
      "UndefVarError: x not defined",
      "",
      "Stacktrace:",
      " [1] stepGradient!(::Array{Float64,1}, ::Parameters, ::Array{Float64,1}, ::Array{Float64,1}, ::Array{Float64,2}, ::Array{Float64,2}) at ./In[3]:35",
      " [2] top-level scope at In[3]:60"
     ]
    }
   ],
   "source": [
    "\n",
    "struct Parameters\n",
    "    # Parameters\n",
    "    maxIters::Int64\n",
    "    α::Float64\n",
    "    ϵ::Float64\n",
    "end\n",
    "\n",
    "\n",
    "# y(xᵢ) = w₀ + w₁x\n",
    "function cost(x::Vector{Float64}, w::Vector{Float64}, y::Vector{Float64})\n",
    "\n",
    "    diff   = 𝚇*w - t # t - 𝚇*w\n",
    "\n",
    "    val     = (1.0/(2.0*N)) * (diff' * diff)\n",
    "    grad    = (1.0/N)*(𝚇'*(diff)) #(-𝚇'*t + (𝚇' * 𝚇 * w) )\n",
    "\n",
    "    return val, grad\n",
    "end\n",
    "\n",
    "\n",
    "function stepGradient!(w₀::Vector{Float64}, params::Parameters,\n",
    "    gradNorm::Vector{Float64},\n",
    "    f_cost::Vector{Float64},\n",
    "    m_∇f::Matrix{Float64},\n",
    "    ws::Matrix{Float64})\n",
    "\n",
    "        local w = w₀\n",
    "        α       = params.α\n",
    "        it      = 0\n",
    "        for i = 1:params.maxIters\n",
    "\n",
    "            ws[:,i] = w # Just for plots\n",
    "\n",
    "            c, ∇f = cost(x, w, y)\n",
    "            wᵢ = w - α * ∇f\n",
    "            w  = wᵢ\n",
    "\n",
    "            # Copy data for plots\n",
    "            gradNorm[i] = norm(∇f)\n",
    "            fcost[i]    = c\n",
    "            m_∇f[:,i]   = -α*∇f\n",
    "\n",
    "            it = i\n",
    "            if norm(∇f) <= params.ϵ\n",
    "                it = i\n",
    "                break\n",
    "            end\n",
    "        end\n",
    "        return w, it\n",
    " end\n",
    "\n",
    "\n",
    "p       = Parameters(100, 0.6, 1.0e-6)\n",
    "iters   = 0\n",
    "normG   = zeros(Float64, p.maxIters)\n",
    "fcost   = zeros(Float64, p.maxIters)\n",
    "m∇f     = zeros(Float64, 2, p.maxIters)\n",
    "ws      = zeros(Float64, 2, p.maxIters)\n",
    "\n",
    "wSG, iters  = stepGradient!([3.0, 3.0], p, normG, fcost, m∇f, ws)\n"
   ]
  },
  {
   "cell_type": "code",
   "execution_count": 4,
   "metadata": {},
   "outputs": [
    {
     "ename": "UndefVarError",
     "evalue": "UndefVarError: N not defined",
     "output_type": "error",
     "traceback": [
      "UndefVarError: N not defined",
      "",
      "Stacktrace:",
      " [1] top-level scope at In[4]:1"
     ]
    }
   ],
   "source": [
    "yls = [ones(N,1) x] * wSG\n",
    "\n",
    "p0 = scatter(x, y, label=\"Data\")\n",
    "plot!(x, yls, label=L\"$y=w_0+\\mathbf{w}^T\\mathbf{x}$-SG\")\n",
    "xaxis!(L\"x\")\n",
    "yaxis!(L\"y\")\n",
    "\n",
    "p1 = plot(fcost[1:iters], color=\"red\", label=\"cost\")\n",
    "xaxis!(\"iters\")\n",
    "yaxis!(L\"E(w)\")\n",
    "\n",
    "p2 = plot(normG[1:iters], color=\"green\", label=\"\")\n",
    "xaxis!(\"iters\")\n",
    "yaxis!(L\"||\\nabla E(w)||\")\n",
    "\n",
    "plot(p0, p1,p2)"
   ]
  },
  {
   "cell_type": "code",
   "execution_count": 5,
   "metadata": {},
   "outputs": [
    {
     "ename": "UndefVarError",
     "evalue": "UndefVarError: ColorSchemes not defined",
     "output_type": "error",
     "traceback": [
      "UndefVarError: ColorSchemes not defined",
      "",
      "Stacktrace:",
      " [1] top-level scope at In[5]:8"
     ]
    }
   ],
   "source": [
    "w0 = -3.2:0.5:4\n",
    "w1 = -2:0.5:4\n",
    "\n",
    "f(xx::Float64, yy::Float64) = begin\n",
    "    diff   = t - 𝚇*[xx,yy]\n",
    "    val     = (1.0/(2.0*N)) * (diff' * diff)\n",
    "    end\n",
    "p3  = contour(w0, w1, f, fill=true, seriescolor = cgrad(ColorSchemes.viridis.colors))\n",
    "xaxis!(L\"w_0\")\n",
    "yaxis!(L\"w_1\")\n",
    "quiver!(ws[1,1:iters], ws[2,1:iters], quiver=(m∇f[1,1:iters],m∇f[2,1:iters]), color=\"red\")\n",
    "plot(p3)"
   ]
  },
  {
   "cell_type": "code",
   "execution_count": null,
   "metadata": {},
   "outputs": [],
   "source": []
  }
 ],
 "metadata": {
  "@webio": {
   "lastCommId": null,
   "lastKernelId": null
  },
  "kernelspec": {
   "display_name": "Julia 1.0.4",
   "language": "julia",
   "name": "julia-1.0"
  },
  "language_info": {
   "file_extension": ".jl",
   "mimetype": "application/julia",
   "name": "julia",
   "version": "1.0.4"
  }
 },
 "nbformat": 4,
 "nbformat_minor": 2
}
